{
 "cells": [
  {
   "cell_type": "markdown",
   "id": "c537bca1-cffa-449c-ab61-de8cc57fc4b6",
   "metadata": {},
   "source": [
    "This Notebook created by [Moussa Jamor](https://github.com/JamorMoussa/)\n",
    "\n",
    "Github repository: [https://github.com/JamorMoussa/learn-DeepLearning](https://github.com/JamorMoussa/learn-DeepLearning)"
   ]
  },
  {
   "cell_type": "markdown",
   "id": "c384e73f-7dcf-4708-b08e-997bca5ca853",
   "metadata": {},
   "source": [
    "# GCN - Graph Convolution Networks"
   ]
  },
  {
   "cell_type": "markdown",
   "id": "c44b5927-8c2a-4e89-8694-6c2dd70992ce",
   "metadata": {},
   "source": [
    "**Graph Convolution Networks** is architecture of neural network, which is designed for **Graph Data**. This architecture is introduced by *Thomas N. Kipf* and *Max Welling* in their paper titled [Semi-Supervised Classification with Graph Convolutional Networks](https://arxiv.org/pdf/1609.02907v4.pdf) in 2017.\n",
    "\n",
    "So, in this notebook we're going to impliment **GCN** arhitecture from scratch using the [**PyTorch**](https://pytorch.org/) framework."
   ]
  },
  {
   "cell_type": "markdown",
   "id": "fd6af988-93bd-489e-b790-6559fd816260",
   "metadata": {},
   "source": [
    "> **Note:**\n",
    ">\n",
    "> This notebook does not include an explanation of the theory behind the implementation. If you're interested in the theory, you can find an explanation in the paper [**Semi-Supervised Classification with GCN**](https://jamormoussa.github.io/docs/papers/graph_conv_net/graph_conv_net/) on my website."
   ]
  },
  {
   "cell_type": "code",
   "execution_count": 1,
   "id": "e0507366-a8c7-4323-80d7-f41700f3e917",
   "metadata": {},
   "outputs": [],
   "source": [
    "# import libraries: \n",
    "\n",
    "import torch\n",
    "import torch.nn as nn\n",
    "import torch.optim as optim"
   ]
  },
  {
   "cell_type": "markdown",
   "id": "b6bedb2e-c845-4c75-ac1d-d0ade6eec64b",
   "metadata": {},
   "source": [
    "## 1. GCN Layer"
   ]
  },
  {
   "cell_type": "markdown",
   "id": "3f0eeb06-d8f5-40c7-8df7-255773ec0925",
   "metadata": {},
   "source": [
    "In this section, we're going to look at the GCN layer proposed in the paper mentioned above. It is defined by the following equation:\n",
    "\n",
    "\\begin{equation}\n",
    "    H^{(l+1)} = \\sigma\\left(\\widetilde{D}^{-\\frac{1}{2}} \\widetilde{A} \\widetilde{D}^{-\\frac{1}{2}} H^{(l)} W^{(l)}\\right)\n",
    "\\end{equation}\n",
    "\n",
    "> **Note:** To understand each element of this equation, refer to the link [**Semi-Supervised Classification with GCN**](https://jamormoussa.github.io/docs/papers/graph_conv_net/graph_conv_net/)."
   ]
  },
  {
   "cell_type": "markdown",
   "id": "8c354016-168c-4991-8f2b-71e4d016a5d1",
   "metadata": {},
   "source": [
    "## 2. Implement the `GCNConv` Layer"
   ]
  },
  {
   "cell_type": "code",
   "execution_count": 27,
   "id": "7cf4537d-7eed-485d-a5eb-75999410a3f1",
   "metadata": {},
   "outputs": [],
   "source": [
    "class GCNConv(nn.Module):\n",
    "\n",
    "    def __init__(\n",
    "            self,\n",
    "            in_features: int,\n",
    "            out_features: int,\n",
    "            normalized: bool = False,\n",
    "            **kwargs\n",
    "        ) -> None:\n",
    "        super(GCNConv, self).__init__(**kwargs)\n",
    "\n",
    "        self.normalized = normalized\n",
    "\n",
    "        self.linear = nn.Linear(in_features, out_features, bias=False) # represent H^l \n",
    "\n",
    "    def forward(self, input: torch.Tensor , adj: torch.Tensor) -> torch.Tensor:\n",
    "        raise NotImplementedError(f\"The forward method is not implimented for {self.__class__.__name__} class\")\n",
    "        \n",
    "        "
   ]
  },
  {
   "cell_type": "code",
   "execution_count": null,
   "id": "4b78322f-c929-4340-93ac-9b061b79af8c",
   "metadata": {},
   "outputs": [],
   "source": []
  }
 ],
 "metadata": {
  "kernelspec": {
   "display_name": "Python 3 (ipykernel)",
   "language": "python",
   "name": "python3"
  },
  "language_info": {
   "codemirror_mode": {
    "name": "ipython",
    "version": 3
   },
   "file_extension": ".py",
   "mimetype": "text/x-python",
   "name": "python",
   "nbconvert_exporter": "python",
   "pygments_lexer": "ipython3",
   "version": "3.11.6"
  }
 },
 "nbformat": 4,
 "nbformat_minor": 5
}
