{
 "cells": [
  {
   "cell_type": "markdown",
   "id": "c537bca1-cffa-449c-ab61-de8cc57fc4b6",
   "metadata": {},
   "source": [
    "This Notebook created by [Moussa Jamor](https://github.com/JamorMoussa/)\n",
    "\n",
    "Github repository: [https://github.com/JamorMoussa/learn-DeepLearning](https://github.com/JamorMoussa/learn-DeepLearning)"
   ]
  },
  {
   "cell_type": "markdown",
   "id": "c384e73f-7dcf-4708-b08e-997bca5ca853",
   "metadata": {},
   "source": [
    "# GCN - Graph Convolution Networks"
   ]
  },
  {
   "cell_type": "markdown",
   "id": "c44b5927-8c2a-4e89-8694-6c2dd70992ce",
   "metadata": {},
   "source": [
    "**Graph Convolution Networks** is architecture of neural network, which is designed for **Graph Data**. This architecture is introduced by *Thomas N. Kipf* and *Max Welling* in their paper titled [Semi-Supervised Classification with Graph Convolutional Networks](https://arxiv.org/pdf/1609.02907v4.pdf) in 2017.\n",
    "\n",
    "So, in this notebook we're going to impliment **GCN** arhitecture from scratch using the [**PyTorch**](https://pytorch.org/) framework."
   ]
  },
  {
   "cell_type": "markdown",
   "id": "fd6af988-93bd-489e-b790-6559fd816260",
   "metadata": {},
   "source": [
    "> **Note:**\n",
    ">\n",
    "> This notebook does not include an explanation of the theory behind the implementation. If you're interested in the theory, you can find an explanation in the paper [**Semi-Supervised Classification with GCN**](https://jamormoussa.github.io/docs/papers/graph_conv_net/graph_conv_net/) on my website."
   ]
  },
  {
   "cell_type": "code",
   "execution_count": null,
   "id": "39ba29ec-afca-4d68-bea4-ace32c432afa",
   "metadata": {},
   "outputs": [],
   "source": []
  }
 ],
 "metadata": {
  "kernelspec": {
   "display_name": "Python 3 (ipykernel)",
   "language": "python",
   "name": "python3"
  },
  "language_info": {
   "codemirror_mode": {
    "name": "ipython",
    "version": 3
   },
   "file_extension": ".py",
   "mimetype": "text/x-python",
   "name": "python",
   "nbconvert_exporter": "python",
   "pygments_lexer": "ipython3",
   "version": "3.11.6"
  }
 },
 "nbformat": 4,
 "nbformat_minor": 5
}
